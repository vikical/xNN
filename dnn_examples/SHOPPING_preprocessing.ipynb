{
 "cells": [
  {
   "cell_type": "code",
   "execution_count": 1,
   "metadata": {},
   "outputs": [],
   "source": [
    "import pandas\n",
    "df = pandas.read_csv('./online_shoppers_intention.csv', header=0)\n",
    "#Administrative,Administrative_Duration,Informational,Informational_Duration,ProductRelated,ProductRelated_Duration,BounceRates,ExitRates,PageValues,SpecialDay,\n",
    "# Month,OperatingSystems,Browser,Region,TrafficType,VisitorType,Weekend,Revenue\n",
    "\n",
    "df['Month'] = df['Month'].astype('category').cat.codes\n",
    "df['VisitorType'] = df['VisitorType'].astype('category').cat.codes\n",
    "df['Weekend']=df['Weekend'].astype('category').cat.codes\n",
    "df['Revenue']=df['Revenue'].astype('category').cat.codes\n",
    "\n",
    "df.to_csv('online_shoppers_intention_preprocess.csv')"
   ]
  }
 ],
 "metadata": {
  "kernelspec": {
   "display_name": "Python 3.8.13 ('tfm_jupyter')",
   "language": "python",
   "name": "python3"
  },
  "language_info": {
   "codemirror_mode": {
    "name": "ipython",
    "version": 3
   },
   "file_extension": ".py",
   "mimetype": "text/x-python",
   "name": "python",
   "nbconvert_exporter": "python",
   "pygments_lexer": "ipython3",
   "version": "3.8.13"
  },
  "orig_nbformat": 4,
  "vscode": {
   "interpreter": {
    "hash": "3bc3e5bf1e2e4513b652dd0b0d3582ec524cacebf7bea236f30b6492fed982d3"
   }
  }
 },
 "nbformat": 4,
 "nbformat_minor": 2
}
