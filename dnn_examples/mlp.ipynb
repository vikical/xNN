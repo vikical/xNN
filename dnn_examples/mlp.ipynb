{
 "cells": [
  {
   "cell_type": "markdown",
   "metadata": {},
   "source": [
    "First, we import the needed libraries."
   ]
  },
  {
   "cell_type": "code",
   "execution_count": 120,
   "metadata": {},
   "outputs": [],
   "source": [
    "import tensorflow as tf\n",
    "import numpy as np\n",
    "from tensorflow.keras.datasets import mnist\n",
    "from tensorflow.keras.models import Sequential\n",
    "from tensorflow.keras.layers import Dense, Activation, InputLayer, Flatten\n",
    "from tensorflow.keras.utils import to_categorical\n"
   ]
  },
  {
   "cell_type": "markdown",
   "metadata": {},
   "source": [
    "Let us first load the MNIST dataset. The MNIST database, an extension of the NIST database, is a low-complexity data collection of handwritten digits used to train and test various supervised machine learning algorithms. The database contains 70,000 28x28 black and white images representing the digits zero through nine. The data is split into two subsets, with 60,000 images belonging to the training set and 10,000 images belonging to the testing set. The separation of images ensures that given what an adequately trained model has learned previously, it can accurately classify relevant images not previously examined\n",
    "\n",
    "We use utils.to_categorical to classify the images in the 10 categorical labels, "
   ]
  },
  {
   "cell_type": "code",
   "execution_count": 121,
   "metadata": {},
   "outputs": [],
   "source": [
    "#Load data.\n",
    "(x_train, y_train), (x_test, y_test) = mnist.load_data()\n",
    "x_train, x_test = x_train / 255.0, x_test / 255.0\n",
    "y_train=to_categorical(y_train,10)\n",
    "y_test=to_categorical(y_test,10)\n"
   ]
  },
  {
   "cell_type": "code",
   "execution_count": 122,
   "metadata": {},
   "outputs": [
    {
     "name": "stdout",
     "output_type": "stream",
     "text": [
      "(60000, 28, 28)\n",
      "(60000, 10)\n",
      "(10000, 28, 28)\n",
      "(10000, 10)\n"
     ]
    }
   ],
   "source": [
    "print(x_train.shape)\n",
    "print(y_train.shape)\n",
    "print(x_test.shape)\n",
    "print(y_test.shape)"
   ]
  },
  {
   "cell_type": "markdown",
   "metadata": {},
   "source": [
    "We add a dimension to training data because Keras layers expect to receive a 4-dimension tensor."
   ]
  },
  {
   "cell_type": "code",
   "execution_count": 123,
   "metadata": {},
   "outputs": [],
   "source": [
    "x_train = tf.expand_dims(x_train, axis=-1)\n",
    "x_test = tf.expand_dims(x_test,axis=-1)"
   ]
  },
  {
   "cell_type": "markdown",
   "metadata": {},
   "source": [
    "https://www.sciencedirect.com/science/article/pii/S1352231097004470?casa_token=yCSinRcM2_EAAAAA:9gyr-B6TzJMX946qREaBG97v8T-4VZnSH6CPxmvQmX6DuNnOKi651PwTGyYwj4JIsbEbpX0AJg\n",
    "\n",
    "\n",
    "We build a MLP with two hidden layers and a ReLU activation function.\n",
    "Next, we would create a Sequential model and add Dense layers with ‘ReLU’ activation function."
   ]
  },
  {
   "cell_type": "markdown",
   "metadata": {},
   "source": []
  },
  {
   "cell_type": "code",
   "execution_count": 126,
   "metadata": {},
   "outputs": [
    {
     "name": "stdout",
     "output_type": "stream",
     "text": [
      "Model: \"sequential_28\"\n",
      "_________________________________________________________________\n",
      "Layer (type)                 Output Shape              Param #   \n",
      "=================================================================\n",
      "flatten_7 (Flatten)          (None, 784)               0         \n",
      "_________________________________________________________________\n",
      "hidden1 (Dense)              (None, 512)               401920    \n",
      "_________________________________________________________________\n",
      "hidden2 (Dense)              (None, 768)               393984    \n",
      "_________________________________________________________________\n",
      "output_layer (Dense)         (None, 10)                7690      \n",
      "=================================================================\n",
      "Total params: 803,594\n",
      "Trainable params: 803,594\n",
      "Non-trainable params: 0\n",
      "_________________________________________________________________\n"
     ]
    }
   ],
   "source": [
    "model = Sequential()\n",
    "model.add(InputLayer(input_shape=(28,28,1),name=\"input_layer\"))\n",
    "model.add(Flatten())\n",
    "model.add(Dense(512, activation='relu',name=\"hidden1\"))\n",
    "model.add(Dense(768, activation='relu',name=\"hidden2\"))\n",
    "model.add(Dense(10, activation='softmax',name=\"output_layer\"))\n",
    "model.summary()"
   ]
  },
  {
   "cell_type": "markdown",
   "metadata": {},
   "source": []
  },
  {
   "cell_type": "markdown",
   "metadata": {},
   "source": [
    "Finally, we would compile the model with optimizer as adam,  loss as categorical cross-entropy, and 100 number of epochs."
   ]
  },
  {
   "cell_type": "code",
   "execution_count": 127,
   "metadata": {},
   "outputs": [
    {
     "name": "stdout",
     "output_type": "stream",
     "text": [
      "(60000, 28, 28, 1)\n",
      "(60000, 10)\n",
      "Epoch 1/100\n",
      "938/938 [==============================] - 3s 3ms/step - loss: 0.1910 - accuracy: 0.9417\n",
      "Epoch 2/100\n",
      "938/938 [==============================] - 3s 3ms/step - loss: 0.0777 - accuracy: 0.9758\n",
      "Epoch 3/100\n",
      "938/938 [==============================] - 3s 3ms/step - loss: 0.0518 - accuracy: 0.9833\n",
      "Epoch 4/100\n",
      "938/938 [==============================] - 2s 3ms/step - loss: 0.0375 - accuracy: 0.9880\n",
      "Epoch 5/100\n",
      "938/938 [==============================] - 2s 3ms/step - loss: 0.0318 - accuracy: 0.9893\n",
      "Epoch 6/100\n",
      "938/938 [==============================] - 2s 3ms/step - loss: 0.0264 - accuracy: 0.9913\n",
      "Epoch 7/100\n",
      "938/938 [==============================] - 2s 3ms/step - loss: 0.0228 - accuracy: 0.9927\n",
      "Epoch 8/100\n",
      "938/938 [==============================] - 3s 3ms/step - loss: 0.0184 - accuracy: 0.9941\n",
      "Epoch 9/100\n",
      "938/938 [==============================] - 2s 3ms/step - loss: 0.0199 - accuracy: 0.9936\n",
      "Epoch 10/100\n",
      "938/938 [==============================] - 3s 3ms/step - loss: 0.0141 - accuracy: 0.9955\n",
      "Epoch 11/100\n",
      "938/938 [==============================] - 2s 3ms/step - loss: 0.0145 - accuracy: 0.9957\n",
      "Epoch 12/100\n",
      "938/938 [==============================] - 2s 3ms/step - loss: 0.0138 - accuracy: 0.9955\n",
      "Epoch 13/100\n",
      "938/938 [==============================] - 3s 3ms/step - loss: 0.0125 - accuracy: 0.9963\n",
      "Epoch 14/100\n",
      "938/938 [==============================] - 2s 3ms/step - loss: 0.0137 - accuracy: 0.9961\n",
      "Epoch 15/100\n",
      "938/938 [==============================] - 2s 3ms/step - loss: 0.0114 - accuracy: 0.9964\n",
      "Epoch 16/100\n",
      "938/938 [==============================] - 3s 3ms/step - loss: 0.0108 - accuracy: 0.9968\n",
      "Epoch 17/100\n",
      "938/938 [==============================] - 2s 3ms/step - loss: 0.0122 - accuracy: 0.9964\n",
      "Epoch 18/100\n",
      "938/938 [==============================] - 2s 3ms/step - loss: 0.0079 - accuracy: 0.9976\n",
      "Epoch 19/100\n",
      "938/938 [==============================] - 2s 3ms/step - loss: 0.0094 - accuracy: 0.9975\n",
      "Epoch 20/100\n",
      "938/938 [==============================] - 2s 3ms/step - loss: 0.0145 - accuracy: 0.9963\n",
      "Epoch 21/100\n",
      "938/938 [==============================] - 3s 3ms/step - loss: 0.0084 - accuracy: 0.9974\n",
      "Epoch 22/100\n",
      "938/938 [==============================] - 3s 3ms/step - loss: 0.0068 - accuracy: 0.9982\n",
      "Epoch 23/100\n",
      "938/938 [==============================] - 3s 3ms/step - loss: 0.0107 - accuracy: 0.9974\n",
      "Epoch 24/100\n",
      "938/938 [==============================] - 3s 3ms/step - loss: 0.0063 - accuracy: 0.9981\n",
      "Epoch 25/100\n",
      "938/938 [==============================] - 2s 3ms/step - loss: 0.0120 - accuracy: 0.9973\n",
      "Epoch 26/100\n",
      "938/938 [==============================] - 2s 3ms/step - loss: 0.0109 - accuracy: 0.9969\n",
      "Epoch 27/100\n",
      "938/938 [==============================] - 3s 3ms/step - loss: 0.0067 - accuracy: 0.9980\n",
      "Epoch 28/100\n",
      "938/938 [==============================] - 3s 3ms/step - loss: 0.0082 - accuracy: 0.9979\n",
      "Epoch 29/100\n",
      "938/938 [==============================] - 2s 3ms/step - loss: 0.0063 - accuracy: 0.9983\n",
      "Epoch 30/100\n",
      "938/938 [==============================] - 2s 3ms/step - loss: 0.0091 - accuracy: 0.9977\n",
      "Epoch 31/100\n",
      "938/938 [==============================] - 2s 3ms/step - loss: 0.0064 - accuracy: 0.9984\n",
      "Epoch 32/100\n",
      "938/938 [==============================] - 3s 3ms/step - loss: 0.0093 - accuracy: 0.9979\n",
      "Epoch 33/100\n",
      "938/938 [==============================] - 3s 3ms/step - loss: 0.0043 - accuracy: 0.9989\n",
      "Epoch 34/100\n",
      "938/938 [==============================] - 2s 3ms/step - loss: 0.0106 - accuracy: 0.9977\n",
      "Epoch 35/100\n",
      "938/938 [==============================] - 3s 3ms/step - loss: 0.0074 - accuracy: 0.9984\n",
      "Epoch 36/100\n",
      "938/938 [==============================] - 3s 3ms/step - loss: 0.0048 - accuracy: 0.9990\n",
      "Epoch 37/100\n",
      "938/938 [==============================] - 2s 3ms/step - loss: 0.0078 - accuracy: 0.9981\n",
      "Epoch 38/100\n",
      "938/938 [==============================] - 3s 3ms/step - loss: 0.0081 - accuracy: 0.9981\n",
      "Epoch 39/100\n",
      "938/938 [==============================] - 2s 3ms/step - loss: 0.0089 - accuracy: 0.9981\n",
      "Epoch 40/100\n",
      "938/938 [==============================] - 2s 3ms/step - loss: 0.0052 - accuracy: 0.9987\n",
      "Epoch 41/100\n",
      "938/938 [==============================] - 2s 3ms/step - loss: 0.0063 - accuracy: 0.9987\n",
      "Epoch 42/100\n",
      "938/938 [==============================] - 3s 3ms/step - loss: 0.0073 - accuracy: 0.9983\n",
      "Epoch 43/100\n",
      "938/938 [==============================] - 2s 3ms/step - loss: 0.0085 - accuracy: 0.9982\n",
      "Epoch 44/100\n",
      "938/938 [==============================] - 3s 3ms/step - loss: 0.0056 - accuracy: 0.9987\n",
      "Epoch 45/100\n",
      "938/938 [==============================] - 3s 3ms/step - loss: 0.0063 - accuracy: 0.9986\n",
      "Epoch 46/100\n",
      "938/938 [==============================] - 2s 3ms/step - loss: 0.0072 - accuracy: 0.9986\n",
      "Epoch 47/100\n",
      "938/938 [==============================] - 2s 3ms/step - loss: 0.0044 - accuracy: 0.9991\n",
      "Epoch 48/100\n",
      "938/938 [==============================] - 2s 3ms/step - loss: 0.0128 - accuracy: 0.9978\n",
      "Epoch 49/100\n",
      "938/938 [==============================] - 2s 3ms/step - loss: 0.0051 - accuracy: 0.9991\n",
      "Epoch 50/100\n",
      "938/938 [==============================] - 2s 3ms/step - loss: 0.0067 - accuracy: 0.9986\n",
      "Epoch 51/100\n",
      "938/938 [==============================] - 3s 3ms/step - loss: 0.0093 - accuracy: 0.9984\n",
      "Epoch 52/100\n",
      "938/938 [==============================] - 2s 3ms/step - loss: 0.0060 - accuracy: 0.9988\n",
      "Epoch 53/100\n",
      "938/938 [==============================] - 2s 3ms/step - loss: 0.0075 - accuracy: 0.9984\n",
      "Epoch 54/100\n",
      "938/938 [==============================] - 2s 3ms/step - loss: 0.0046 - accuracy: 0.9991\n",
      "Epoch 55/100\n",
      "938/938 [==============================] - 2s 3ms/step - loss: 0.0055 - accuracy: 0.9990\n",
      "Epoch 56/100\n",
      "938/938 [==============================] - 2s 3ms/step - loss: 0.0061 - accuracy: 0.9984\n",
      "Epoch 57/100\n",
      "938/938 [==============================] - 2s 3ms/step - loss: 0.0079 - accuracy: 0.9988\n",
      "Epoch 58/100\n",
      "938/938 [==============================] - 3s 3ms/step - loss: 0.0073 - accuracy: 0.9986\n",
      "Epoch 59/100\n",
      "938/938 [==============================] - 3s 3ms/step - loss: 0.0062 - accuracy: 0.9987\n",
      "Epoch 60/100\n",
      "938/938 [==============================] - 2s 3ms/step - loss: 0.0047 - accuracy: 0.9992\n",
      "Epoch 61/100\n",
      "938/938 [==============================] - 2s 3ms/step - loss: 0.0081 - accuracy: 0.9985\n",
      "Epoch 62/100\n",
      "938/938 [==============================] - 3s 3ms/step - loss: 0.0080 - accuracy: 0.9988\n",
      "Epoch 63/100\n",
      "938/938 [==============================] - 2s 3ms/step - loss: 0.0080 - accuracy: 0.9988\n",
      "Epoch 64/100\n",
      "938/938 [==============================] - 3s 3ms/step - loss: 0.0045 - accuracy: 0.9991\n",
      "Epoch 65/100\n",
      "938/938 [==============================] - 2s 3ms/step - loss: 0.0044 - accuracy: 0.9991\n",
      "Epoch 66/100\n",
      "938/938 [==============================] - 2s 3ms/step - loss: 0.0085 - accuracy: 0.9987\n",
      "Epoch 67/100\n",
      "938/938 [==============================] - 2s 3ms/step - loss: 0.0080 - accuracy: 0.9988\n",
      "Epoch 68/100\n",
      "938/938 [==============================] - 2s 3ms/step - loss: 0.0066 - accuracy: 0.9987\n",
      "Epoch 69/100\n",
      "938/938 [==============================] - 3s 3ms/step - loss: 0.0077 - accuracy: 0.9990\n",
      "Epoch 70/100\n",
      "938/938 [==============================] - 2s 3ms/step - loss: 0.0098 - accuracy: 0.9986\n",
      "Epoch 71/100\n",
      "938/938 [==============================] - 2s 3ms/step - loss: 0.0029 - accuracy: 0.9994\n",
      "Epoch 72/100\n",
      "938/938 [==============================] - 3s 3ms/step - loss: 0.0067 - accuracy: 0.9990\n",
      "Epoch 73/100\n",
      "938/938 [==============================] - 2s 3ms/step - loss: 0.0070 - accuracy: 0.9989\n",
      "Epoch 74/100\n",
      "938/938 [==============================] - 2s 3ms/step - loss: 0.0090 - accuracy: 0.9987\n",
      "Epoch 75/100\n",
      "938/938 [==============================] - 3s 3ms/step - loss: 0.0031 - accuracy: 0.9994\n",
      "Epoch 76/100\n",
      "938/938 [==============================] - 3s 3ms/step - loss: 0.0071 - accuracy: 0.9990\n",
      "Epoch 77/100\n",
      "938/938 [==============================] - 2s 3ms/step - loss: 0.0086 - accuracy: 0.9988\n",
      "Epoch 78/100\n",
      "938/938 [==============================] - 3s 3ms/step - loss: 0.0071 - accuracy: 0.9991\n",
      "Epoch 79/100\n",
      "938/938 [==============================] - 2s 3ms/step - loss: 0.0072 - accuracy: 0.9991\n",
      "Epoch 80/100\n",
      "938/938 [==============================] - 2s 3ms/step - loss: 0.0070 - accuracy: 0.9991\n",
      "Epoch 81/100\n",
      "938/938 [==============================] - 2s 3ms/step - loss: 0.0040 - accuracy: 0.9995\n",
      "Epoch 82/100\n",
      "938/938 [==============================] - 3s 3ms/step - loss: 0.0056 - accuracy: 0.9991\n",
      "Epoch 83/100\n",
      "938/938 [==============================] - 3s 3ms/step - loss: 0.0078 - accuracy: 0.9988\n",
      "Epoch 84/100\n",
      "938/938 [==============================] - 3s 3ms/step - loss: 0.0048 - accuracy: 0.9993\n",
      "Epoch 85/100\n",
      "938/938 [==============================] - 3s 3ms/step - loss: 0.0039 - accuracy: 0.9994\n",
      "Epoch 86/100\n",
      "938/938 [==============================] - 2s 3ms/step - loss: 0.0071 - accuracy: 0.9987\n",
      "Epoch 87/100\n",
      "938/938 [==============================] - 3s 3ms/step - loss: 0.0059 - accuracy: 0.9991\n",
      "Epoch 88/100\n",
      "938/938 [==============================] - 2s 3ms/step - loss: 0.0048 - accuracy: 0.9993\n",
      "Epoch 89/100\n",
      "938/938 [==============================] - 2s 3ms/step - loss: 0.0076 - accuracy: 0.9989\n",
      "Epoch 90/100\n",
      "938/938 [==============================] - 2s 3ms/step - loss: 0.0086 - accuracy: 0.9990\n",
      "Epoch 91/100\n",
      "938/938 [==============================] - 3s 3ms/step - loss: 0.0049 - accuracy: 0.9991\n",
      "Epoch 92/100\n",
      "938/938 [==============================] - 2s 3ms/step - loss: 0.0055 - accuracy: 0.9992\n",
      "Epoch 93/100\n",
      "938/938 [==============================] - 2s 3ms/step - loss: 0.0058 - accuracy: 0.9992\n",
      "Epoch 94/100\n",
      "938/938 [==============================] - 3s 3ms/step - loss: 0.0034 - accuracy: 0.9996\n",
      "Epoch 95/100\n",
      "938/938 [==============================] - 3s 3ms/step - loss: 0.0039 - accuracy: 0.9994\n",
      "Epoch 96/100\n",
      "938/938 [==============================] - 3s 3ms/step - loss: 0.0118 - accuracy: 0.9987\n",
      "Epoch 97/100\n",
      "938/938 [==============================] - 2s 3ms/step - loss: 0.0098 - accuracy: 0.9987\n",
      "Epoch 98/100\n",
      "938/938 [==============================] - 2s 3ms/step - loss: 0.0042 - accuracy: 0.9994\n",
      "Epoch 99/100\n",
      "938/938 [==============================] - 2s 3ms/step - loss: 0.0027 - accuracy: 0.9995\n",
      "Epoch 100/100\n",
      "938/938 [==============================] - 2s 3ms/step - loss: 0.0056 - accuracy: 0.9990\n"
     ]
    },
    {
     "data": {
      "text/plain": [
       "<tensorflow.python.keras.callbacks.History at 0x7f19422c6520>"
      ]
     },
     "execution_count": 127,
     "metadata": {},
     "output_type": "execute_result"
    }
   ],
   "source": [
    "print(x_train.shape)\n",
    "print(y_train.shape)\n",
    "model.compile(optimizer='adam',loss='categorical_crossentropy', metrics=['accuracy'])\n",
    "model.fit(x_train, y_train, epochs=100, batch_size=64)"
   ]
  },
  {
   "cell_type": "markdown",
   "metadata": {},
   "source": [
    "We test the obtained model"
   ]
  },
  {
   "cell_type": "code",
   "execution_count": 128,
   "metadata": {},
   "outputs": [
    {
     "name": "stdout",
     "output_type": "stream",
     "text": [
      "Test loss: 0.38700196146965027\n",
      "Test accuracy: 0.98089998960495\n"
     ]
    }
   ],
   "source": [
    "score = model.evaluate(x_test, y_test, verbose=0)\n",
    "print(\"Test loss:\", score[0])\n",
    "print(\"Test accuracy:\", score[1])"
   ]
  },
  {
   "cell_type": "markdown",
   "metadata": {},
   "source": [
    "We save the model"
   ]
  },
  {
   "cell_type": "code",
   "execution_count": 129,
   "metadata": {},
   "outputs": [
    {
     "name": "stdout",
     "output_type": "stream",
     "text": [
      "WARNING:tensorflow:From /home/viki/miniconda3/envs/tfm_jupyter/lib/python3.8/site-packages/tensorflow/python/training/tracking/tracking.py:111: Model.state_updates (from tensorflow.python.keras.engine.training) is deprecated and will be removed in a future version.\n",
      "Instructions for updating:\n",
      "This property should not be used in TensorFlow 2.0, as updates are applied automatically.\n",
      "WARNING:tensorflow:From /home/viki/miniconda3/envs/tfm_jupyter/lib/python3.8/site-packages/tensorflow/python/training/tracking/tracking.py:111: Layer.updates (from tensorflow.python.keras.engine.base_layer) is deprecated and will be removed in a future version.\n",
      "Instructions for updating:\n",
      "This property should not be used in TensorFlow 2.0, as updates are applied automatically.\n"
     ]
    },
    {
     "name": "stderr",
     "output_type": "stream",
     "text": [
      "2022-05-30 18:43:46.479747: W tensorflow/python/util/util.cc:348] Sets are not currently considered sequences, but this may change in the future, so consider avoiding using them.\n"
     ]
    },
    {
     "name": "stdout",
     "output_type": "stream",
     "text": [
      "INFO:tensorflow:Assets written to: mnist_mlp_2h/assets\n"
     ]
    }
   ],
   "source": [
    "model.save(\"mnist_mlp_2h\")"
   ]
  }
 ],
 "metadata": {
  "interpreter": {
   "hash": "3bc3e5bf1e2e4513b652dd0b0d3582ec524cacebf7bea236f30b6492fed982d3"
  },
  "kernelspec": {
   "display_name": "Python 3.8.13 ('tfm_jupyter')",
   "language": "python",
   "name": "python3"
  },
  "language_info": {
   "codemirror_mode": {
    "name": "ipython",
    "version": 3
   },
   "file_extension": ".py",
   "mimetype": "text/x-python",
   "name": "python",
   "nbconvert_exporter": "python",
   "pygments_lexer": "ipython3",
   "version": "3.8.13"
  },
  "orig_nbformat": 4
 },
 "nbformat": 4,
 "nbformat_minor": 2
}
