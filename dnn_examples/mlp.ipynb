{
 "cells": [
  {
   "cell_type": "markdown",
   "metadata": {},
   "source": [
    "First, we import the needed libraries."
   ]
  },
  {
   "cell_type": "code",
   "execution_count": 149,
   "metadata": {},
   "outputs": [],
   "source": [
    "import tensorflow as tf\n",
    "import numpy as np\n",
    "from tensorflow.keras.datasets import mnist\n",
    "from tensorflow.keras.models import Sequential, Model\n",
    "from tensorflow.keras.layers import Dense, Activation, InputLayer, Flatten, Input\n",
    "from tensorflow.keras.utils import to_categorical\n"
   ]
  },
  {
   "cell_type": "markdown",
   "metadata": {},
   "source": [
    "Let us first load the MNIST dataset. The MNIST database, an extension of the NIST database, is a low-complexity data collection of handwritten digits used to train and test various supervised machine learning algorithms. The database contains 70,000 28x28 black and white images representing the digits zero through nine. The data is split into two subsets, with 60,000 images belonging to the training set and 10,000 images belonging to the testing set. The separation of images ensures that given what an adequately trained model has learned previously, it can accurately classify relevant images not previously examined\n",
    "\n",
    "We use utils.to_categorical to classify the images in the 10 categorical labels, "
   ]
  },
  {
   "cell_type": "code",
   "execution_count": 150,
   "metadata": {},
   "outputs": [],
   "source": [
    "#Load data.\n",
    "(x_train, y_train), (x_test, y_test) = mnist.load_data()\n",
    "x_train, x_test = x_train / 255.0, x_test / 255.0\n",
    "y_train=to_categorical(y_train,10)\n",
    "y_test=to_categorical(y_test,10)\n"
   ]
  },
  {
   "cell_type": "code",
   "execution_count": 151,
   "metadata": {},
   "outputs": [
    {
     "name": "stdout",
     "output_type": "stream",
     "text": [
      "(60000, 28, 28)\n",
      "(60000, 10)\n",
      "(10000, 28, 28)\n",
      "(10000, 10)\n"
     ]
    }
   ],
   "source": [
    "print(x_train.shape)\n",
    "print(y_train.shape)\n",
    "print(x_test.shape)\n",
    "print(y_test.shape)"
   ]
  },
  {
   "cell_type": "markdown",
   "metadata": {},
   "source": [
    "We add a dimension to training data because Keras layers expect to receive a 4-dimension tensor."
   ]
  },
  {
   "cell_type": "code",
   "execution_count": 152,
   "metadata": {},
   "outputs": [],
   "source": [
    "x_train = tf.expand_dims(x_train, axis=-1)\n",
    "x_test = tf.expand_dims(x_test,axis=-1)"
   ]
  },
  {
   "cell_type": "markdown",
   "metadata": {},
   "source": [
    "https://www.sciencedirect.com/science/article/pii/S1352231097004470?casa_token=yCSinRcM2_EAAAAA:9gyr-B6TzJMX946qREaBG97v8T-4VZnSH6CPxmvQmX6DuNnOKi651PwTGyYwj4JIsbEbpX0AJg\n",
    "\n",
    "\n",
    "We build a MLP with two hidden layers and a ReLU activation function.\n",
    "Next, we would create a Sequential model and add Dense layers with ‘ReLU’ activation function."
   ]
  },
  {
   "cell_type": "markdown",
   "metadata": {},
   "source": []
  },
  {
   "cell_type": "code",
   "execution_count": 153,
   "metadata": {},
   "outputs": [
    {
     "name": "stdout",
     "output_type": "stream",
     "text": [
      "Model: \"functional_5\"\n",
      "_________________________________________________________________\n",
      "Layer (type)                 Output Shape              Param #   \n",
      "=================================================================\n",
      "input_layer (InputLayer)     [(None, 28, 28, 1)]       0         \n",
      "_________________________________________________________________\n",
      "flatten_15 (Flatten)         (None, 784)               0         \n",
      "_________________________________________________________________\n",
      "hidden1 (Dense)              (None, 512)               401920    \n",
      "_________________________________________________________________\n",
      "hidden2 (Dense)              (None, 768)               393984    \n",
      "_________________________________________________________________\n",
      "output_layer (Dense)         (None, 10)                7690      \n",
      "=================================================================\n",
      "Total params: 803,594\n",
      "Trainable params: 803,594\n",
      "Non-trainable params: 0\n",
      "_________________________________________________________________\n"
     ]
    }
   ],
   "source": [
    "inputs=Input(shape=(28,28,1),name=\"input_layer\")\n",
    "layer=Flatten()(inputs)\n",
    "layer=Dense(512, activation='relu',name=\"hidden1\")(layer)\n",
    "layer=Dense(768, activation='relu',name=\"hidden2\")(layer)\n",
    "layer=Dense(10, activation='softmax',name=\"output_layer\")(layer)\n",
    "model = Model(inputs=inputs, outputs=layer)\n",
    "model.summary()"
   ]
  },
  {
   "cell_type": "markdown",
   "metadata": {},
   "source": []
  },
  {
   "cell_type": "markdown",
   "metadata": {},
   "source": [
    "Uncomment following lines in case it's needed a Sequential model."
   ]
  },
  {
   "cell_type": "code",
   "execution_count": 154,
   "metadata": {},
   "outputs": [
    {
     "name": "stdout",
     "output_type": "stream",
     "text": [
      "Model: \"sequential_30\"\n",
      "_________________________________________________________________\n",
      "Layer (type)                 Output Shape              Param #   \n",
      "=================================================================\n",
      "flatten_16 (Flatten)         (None, 784)               0         \n",
      "_________________________________________________________________\n",
      "hidden1 (Dense)              (None, 512)               401920    \n",
      "_________________________________________________________________\n",
      "hidden2 (Dense)              (None, 768)               393984    \n",
      "_________________________________________________________________\n",
      "output_layer (Dense)         (None, 10)                7690      \n",
      "=================================================================\n",
      "Total params: 803,594\n",
      "Trainable params: 803,594\n",
      "Non-trainable params: 0\n",
      "_________________________________________________________________\n"
     ]
    }
   ],
   "source": [
    "# model = Sequential()\n",
    "# model.add(InputLayer(input_shape=(28,28,1),name=\"input_layer\"))\n",
    "# model.add(Flatten())\n",
    "# model.add(Dense(512, activation='relu',name=\"hidden1\"))\n",
    "# model.add(Dense(768, activation='relu',name=\"hidden2\"))\n",
    "# model.add(Dense(10, activation='softmax',name=\"output_layer\"))\n",
    "# model.summary()"
   ]
  },
  {
   "cell_type": "markdown",
   "metadata": {},
   "source": [
    "Finally, we would compile the model with optimizer as adam,  loss as categorical cross-entropy, and 100 number of epochs."
   ]
  },
  {
   "cell_type": "code",
   "execution_count": 155,
   "metadata": {},
   "outputs": [
    {
     "name": "stdout",
     "output_type": "stream",
     "text": [
      "(60000, 28, 28, 1)\n",
      "(60000, 10)\n",
      "Epoch 1/100\n",
      "938/938 [==============================] - 3s 3ms/step - loss: 0.1905 - accuracy: 0.9419\n",
      "Epoch 2/100\n",
      "938/938 [==============================] - 2s 3ms/step - loss: 0.0786 - accuracy: 0.9756\n",
      "Epoch 3/100\n",
      "938/938 [==============================] - 3s 3ms/step - loss: 0.0507 - accuracy: 0.9837\n",
      "Epoch 4/100\n",
      "938/938 [==============================] - 3s 3ms/step - loss: 0.0401 - accuracy: 0.9868\n",
      "Epoch 5/100\n",
      "938/938 [==============================] - 3s 3ms/step - loss: 0.0295 - accuracy: 0.9902\n",
      "Epoch 6/100\n",
      "938/938 [==============================] - 3s 3ms/step - loss: 0.0274 - accuracy: 0.9912\n",
      "Epoch 7/100\n",
      "938/938 [==============================] - 3s 3ms/step - loss: 0.0211 - accuracy: 0.9933\n",
      "Epoch 8/100\n",
      "938/938 [==============================] - 3s 3ms/step - loss: 0.0208 - accuracy: 0.9931\n",
      "Epoch 9/100\n",
      "938/938 [==============================] - 3s 3ms/step - loss: 0.0177 - accuracy: 0.9945\n",
      "Epoch 10/100\n",
      "938/938 [==============================] - 3s 3ms/step - loss: 0.0182 - accuracy: 0.9943\n",
      "Epoch 11/100\n",
      "938/938 [==============================] - 3s 3ms/step - loss: 0.0136 - accuracy: 0.9956\n",
      "Epoch 12/100\n",
      "938/938 [==============================] - 3s 3ms/step - loss: 0.0144 - accuracy: 0.9953\n",
      "Epoch 13/100\n",
      "938/938 [==============================] - 3s 3ms/step - loss: 0.0098 - accuracy: 0.9970\n",
      "Epoch 14/100\n",
      "938/938 [==============================] - 3s 3ms/step - loss: 0.0155 - accuracy: 0.9955\n",
      "Epoch 15/100\n",
      "938/938 [==============================] - 3s 3ms/step - loss: 0.0118 - accuracy: 0.9967\n",
      "Epoch 16/100\n",
      "938/938 [==============================] - 2s 3ms/step - loss: 0.0098 - accuracy: 0.9972\n",
      "Epoch 17/100\n",
      "938/938 [==============================] - 2s 3ms/step - loss: 0.0101 - accuracy: 0.9970\n",
      "Epoch 18/100\n",
      "938/938 [==============================] - 2s 3ms/step - loss: 0.0129 - accuracy: 0.9966\n",
      "Epoch 19/100\n",
      "938/938 [==============================] - 2s 3ms/step - loss: 0.0099 - accuracy: 0.9971\n",
      "Epoch 20/100\n",
      "938/938 [==============================] - 2s 3ms/step - loss: 0.0099 - accuracy: 0.9973\n",
      "Epoch 21/100\n",
      "938/938 [==============================] - 2s 3ms/step - loss: 0.0116 - accuracy: 0.9970\n",
      "Epoch 22/100\n",
      "938/938 [==============================] - 2s 3ms/step - loss: 0.0084 - accuracy: 0.9978\n",
      "Epoch 23/100\n",
      "938/938 [==============================] - 2s 3ms/step - loss: 0.0093 - accuracy: 0.9975\n",
      "Epoch 24/100\n",
      "938/938 [==============================] - 2s 3ms/step - loss: 0.0092 - accuracy: 0.9971\n",
      "Epoch 25/100\n",
      "938/938 [==============================] - 2s 3ms/step - loss: 0.0061 - accuracy: 0.9983\n",
      "Epoch 26/100\n",
      "938/938 [==============================] - 2s 3ms/step - loss: 0.0119 - accuracy: 0.9965\n",
      "Epoch 27/100\n",
      "938/938 [==============================] - 2s 3ms/step - loss: 0.0096 - accuracy: 0.9974\n",
      "Epoch 28/100\n",
      "938/938 [==============================] - 2s 3ms/step - loss: 0.0059 - accuracy: 0.9984\n",
      "Epoch 29/100\n",
      "938/938 [==============================] - 2s 3ms/step - loss: 0.0072 - accuracy: 0.9982\n",
      "Epoch 30/100\n",
      "938/938 [==============================] - 2s 3ms/step - loss: 0.0102 - accuracy: 0.9973\n",
      "Epoch 31/100\n",
      "938/938 [==============================] - 2s 3ms/step - loss: 0.0076 - accuracy: 0.9982\n",
      "Epoch 32/100\n",
      "938/938 [==============================] - 2s 3ms/step - loss: 0.0065 - accuracy: 0.9984\n",
      "Epoch 33/100\n",
      "938/938 [==============================] - 2s 2ms/step - loss: 0.0094 - accuracy: 0.9979\n",
      "Epoch 34/100\n",
      "938/938 [==============================] - 2s 3ms/step - loss: 0.0099 - accuracy: 0.9976\n",
      "Epoch 35/100\n",
      "938/938 [==============================] - 3s 3ms/step - loss: 0.0034 - accuracy: 0.9991\n",
      "Epoch 36/100\n",
      "938/938 [==============================] - 2s 3ms/step - loss: 0.0038 - accuracy: 0.9990\n",
      "Epoch 37/100\n",
      "938/938 [==============================] - 3s 3ms/step - loss: 0.0103 - accuracy: 0.9976\n",
      "Epoch 38/100\n",
      "938/938 [==============================] - 2s 3ms/step - loss: 0.0109 - accuracy: 0.9980\n",
      "Epoch 39/100\n",
      "938/938 [==============================] - 2s 3ms/step - loss: 0.0058 - accuracy: 0.9987\n",
      "Epoch 40/100\n",
      "938/938 [==============================] - 3s 3ms/step - loss: 0.0073 - accuracy: 0.9983\n",
      "Epoch 41/100\n",
      "938/938 [==============================] - 2s 3ms/step - loss: 0.0053 - accuracy: 0.9987\n",
      "Epoch 42/100\n",
      "938/938 [==============================] - 2s 3ms/step - loss: 0.0080 - accuracy: 0.9984\n",
      "Epoch 43/100\n",
      "938/938 [==============================] - 2s 3ms/step - loss: 0.0058 - accuracy: 0.9986\n",
      "Epoch 44/100\n",
      "938/938 [==============================] - 2s 3ms/step - loss: 0.0065 - accuracy: 0.9985\n",
      "Epoch 45/100\n",
      "938/938 [==============================] - 2s 3ms/step - loss: 0.0056 - accuracy: 0.9988\n",
      "Epoch 46/100\n",
      "938/938 [==============================] - 2s 3ms/step - loss: 0.0072 - accuracy: 0.9985\n",
      "Epoch 47/100\n",
      "938/938 [==============================] - 2s 3ms/step - loss: 0.0029 - accuracy: 0.9992\n",
      "Epoch 48/100\n",
      "938/938 [==============================] - 2s 3ms/step - loss: 0.0070 - accuracy: 0.9987\n",
      "Epoch 49/100\n",
      "938/938 [==============================] - 2s 3ms/step - loss: 0.0138 - accuracy: 0.9978\n",
      "Epoch 50/100\n",
      "938/938 [==============================] - 2s 3ms/step - loss: 0.0050 - accuracy: 0.9990\n",
      "Epoch 51/100\n",
      "938/938 [==============================] - 2s 3ms/step - loss: 0.0060 - accuracy: 0.9989\n",
      "Epoch 52/100\n",
      "938/938 [==============================] - 2s 3ms/step - loss: 0.0105 - accuracy: 0.9982\n",
      "Epoch 53/100\n",
      "938/938 [==============================] - 2s 3ms/step - loss: 0.0039 - accuracy: 0.9991\n",
      "Epoch 54/100\n",
      "938/938 [==============================] - 2s 3ms/step - loss: 0.0085 - accuracy: 0.9984\n",
      "Epoch 55/100\n",
      "938/938 [==============================] - 3s 3ms/step - loss: 0.0107 - accuracy: 0.9980\n",
      "Epoch 56/100\n",
      "938/938 [==============================] - 2s 3ms/step - loss: 0.0020 - accuracy: 0.9995\n",
      "Epoch 57/100\n",
      "938/938 [==============================] - 2s 3ms/step - loss: 0.0058 - accuracy: 0.9986\n",
      "Epoch 58/100\n",
      "938/938 [==============================] - 2s 3ms/step - loss: 0.0066 - accuracy: 0.9990\n",
      "Epoch 59/100\n",
      "938/938 [==============================] - 2s 3ms/step - loss: 0.0098 - accuracy: 0.9982\n",
      "Epoch 60/100\n",
      "938/938 [==============================] - 2s 3ms/step - loss: 0.0068 - accuracy: 0.9987\n",
      "Epoch 61/100\n",
      "938/938 [==============================] - 2s 3ms/step - loss: 0.0027 - accuracy: 0.9992\n",
      "Epoch 62/100\n",
      "938/938 [==============================] - 2s 3ms/step - loss: 0.0044 - accuracy: 0.9991\n",
      "Epoch 63/100\n",
      "938/938 [==============================] - 2s 3ms/step - loss: 0.0080 - accuracy: 0.9984\n",
      "Epoch 64/100\n",
      "938/938 [==============================] - 2s 3ms/step - loss: 0.0032 - accuracy: 0.9994\n",
      "Epoch 65/100\n",
      "938/938 [==============================] - 2s 3ms/step - loss: 0.0063 - accuracy: 0.9988\n",
      "Epoch 66/100\n",
      "938/938 [==============================] - 2s 2ms/step - loss: 0.0092 - accuracy: 0.9985\n",
      "Epoch 67/100\n",
      "938/938 [==============================] - 2s 3ms/step - loss: 0.0042 - accuracy: 0.9994\n",
      "Epoch 68/100\n",
      "938/938 [==============================] - 3s 3ms/step - loss: 0.0103 - accuracy: 0.9984\n",
      "Epoch 69/100\n",
      "938/938 [==============================] - 2s 3ms/step - loss: 0.0040 - accuracy: 0.9992\n",
      "Epoch 70/100\n",
      "938/938 [==============================] - 2s 3ms/step - loss: 9.6400e-04 - accuracy: 0.9998\n",
      "Epoch 71/100\n",
      "938/938 [==============================] - 2s 3ms/step - loss: 0.0093 - accuracy: 0.9984\n",
      "Epoch 72/100\n",
      "938/938 [==============================] - 2s 3ms/step - loss: 0.0088 - accuracy: 0.9986\n",
      "Epoch 73/100\n",
      "938/938 [==============================] - 3s 3ms/step - loss: 0.0067 - accuracy: 0.9989\n",
      "Epoch 74/100\n",
      "938/938 [==============================] - 2s 3ms/step - loss: 0.0032 - accuracy: 0.9995\n",
      "Epoch 75/100\n",
      "938/938 [==============================] - 2s 3ms/step - loss: 0.0080 - accuracy: 0.9987\n",
      "Epoch 76/100\n",
      "938/938 [==============================] - 2s 3ms/step - loss: 0.0069 - accuracy: 0.9988\n",
      "Epoch 77/100\n",
      "938/938 [==============================] - 2s 3ms/step - loss: 0.0054 - accuracy: 0.9990\n",
      "Epoch 78/100\n",
      "938/938 [==============================] - 2s 3ms/step - loss: 0.0068 - accuracy: 0.9989\n",
      "Epoch 79/100\n",
      "938/938 [==============================] - 2s 3ms/step - loss: 0.0076 - accuracy: 0.9988\n",
      "Epoch 80/100\n",
      "938/938 [==============================] - 2s 3ms/step - loss: 0.0062 - accuracy: 0.9990\n",
      "Epoch 81/100\n",
      "938/938 [==============================] - 2s 3ms/step - loss: 0.0040 - accuracy: 0.9992\n",
      "Epoch 82/100\n",
      "938/938 [==============================] - 2s 3ms/step - loss: 0.0056 - accuracy: 0.9991\n",
      "Epoch 83/100\n",
      "938/938 [==============================] - 2s 3ms/step - loss: 0.0057 - accuracy: 0.9990\n",
      "Epoch 84/100\n",
      "938/938 [==============================] - 2s 3ms/step - loss: 0.0031 - accuracy: 0.9995\n",
      "Epoch 85/100\n",
      "938/938 [==============================] - 3s 3ms/step - loss: 5.0637e-05 - accuracy: 1.0000\n",
      "Epoch 86/100\n",
      "938/938 [==============================] - 3s 3ms/step - loss: 2.9634e-06 - accuracy: 1.0000\n",
      "Epoch 87/100\n",
      "938/938 [==============================] - 2s 3ms/step - loss: 7.7306e-07 - accuracy: 1.0000\n",
      "Epoch 88/100\n",
      "938/938 [==============================] - 2s 3ms/step - loss: 2.7511e-07 - accuracy: 1.0000\n",
      "Epoch 89/100\n",
      "938/938 [==============================] - 2s 3ms/step - loss: 1.9880e-07 - accuracy: 1.0000\n",
      "Epoch 90/100\n",
      "938/938 [==============================] - 2s 3ms/step - loss: 1.4646e-07 - accuracy: 1.0000\n",
      "Epoch 91/100\n",
      "938/938 [==============================] - 2s 3ms/step - loss: 1.0644e-07 - accuracy: 1.0000\n",
      "Epoch 92/100\n",
      "938/938 [==============================] - 2s 3ms/step - loss: 7.7756e-08 - accuracy: 1.0000\n",
      "Epoch 93/100\n",
      "938/938 [==============================] - 3s 3ms/step - loss: 5.7081e-08 - accuracy: 1.0000\n",
      "Epoch 94/100\n",
      "938/938 [==============================] - 2s 3ms/step - loss: 4.0665e-08 - accuracy: 1.0000\n",
      "Epoch 95/100\n",
      "938/938 [==============================] - 2s 3ms/step - loss: 2.8193e-08 - accuracy: 1.0000\n",
      "Epoch 96/100\n",
      "938/938 [==============================] - 2s 3ms/step - loss: 2.0025e-08 - accuracy: 1.0000\n",
      "Epoch 97/100\n",
      "938/938 [==============================] - 2s 3ms/step - loss: 1.4079e-08 - accuracy: 1.0000\n",
      "Epoch 98/100\n",
      "938/938 [==============================] - 2s 3ms/step - loss: 9.8884e-09 - accuracy: 1.0000\n",
      "Epoch 99/100\n",
      "938/938 [==============================] - 2s 3ms/step - loss: 6.8784e-09 - accuracy: 1.0000\n",
      "Epoch 100/100\n",
      "938/938 [==============================] - 2s 2ms/step - loss: 4.8796e-09 - accuracy: 1.0000\n"
     ]
    },
    {
     "data": {
      "text/plain": [
       "<tensorflow.python.keras.callbacks.History at 0x7f193e27d100>"
      ]
     },
     "execution_count": 155,
     "metadata": {},
     "output_type": "execute_result"
    }
   ],
   "source": [
    "print(x_train.shape)\n",
    "print(y_train.shape)\n",
    "model.compile(optimizer='adam',loss='categorical_crossentropy', metrics=['accuracy'])\n",
    "model.fit(x_train, y_train, epochs=100, batch_size=64)"
   ]
  },
  {
   "cell_type": "markdown",
   "metadata": {},
   "source": [
    "We test the obtained model"
   ]
  },
  {
   "cell_type": "code",
   "execution_count": 156,
   "metadata": {},
   "outputs": [
    {
     "name": "stdout",
     "output_type": "stream",
     "text": [
      "Test loss: 0.24421662092208862\n",
      "Test accuracy: 0.986299991607666\n"
     ]
    }
   ],
   "source": [
    "score = model.evaluate(x_test, y_test, verbose=0)\n",
    "print(\"Test loss:\", score[0])\n",
    "print(\"Test accuracy:\", score[1])"
   ]
  },
  {
   "cell_type": "markdown",
   "metadata": {},
   "source": [
    "We save the model"
   ]
  },
  {
   "cell_type": "code",
   "execution_count": 157,
   "metadata": {},
   "outputs": [
    {
     "ename": "",
     "evalue": "",
     "output_type": "error",
     "traceback": [
      "\u001b[1;31mThe Kernel crashed while executing code in the the current cell or a previous cell. Please review the code in the cell(s) to identify a possible cause of the failure. Click <a href='https://aka.ms/vscodeJupyterKernelCrash'>here</a> for more info. View Jupyter <a href='command:jupyter.viewOutput'>log</a> for further details."
     ]
    }
   ],
   "source": [
    "model.save(\"mnist_mlp_2h.h5\")"
   ]
  }
 ],
 "metadata": {
  "interpreter": {
   "hash": "3bc3e5bf1e2e4513b652dd0b0d3582ec524cacebf7bea236f30b6492fed982d3"
  },
  "kernelspec": {
   "display_name": "Python 3.8.13 ('tfm_jupyter')",
   "language": "python",
   "name": "python3"
  },
  "language_info": {
   "codemirror_mode": {
    "name": "ipython",
    "version": 3
   },
   "file_extension": ".py",
   "mimetype": "text/x-python",
   "name": "python",
   "nbconvert_exporter": "python",
   "pygments_lexer": "ipython3",
   "version": "3.8.13"
  },
  "orig_nbformat": 4
 },
 "nbformat": 4,
 "nbformat_minor": 2
}
