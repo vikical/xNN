{
 "cells": [
  {
   "cell_type": "code",
   "execution_count": 34,
   "metadata": {},
   "outputs": [],
   "source": [
    "import tensorflow as tf\n",
    "import numpy as np\n",
    "from tensorflow.keras.datasets import mnist\n",
    "from tensorflow.keras.models import Sequential, Model\n",
    "from tensorflow.keras.layers import Dense, Activation, InputLayer, Flatten, Input\n",
    "from tensorflow.keras.utils import to_categorical\n",
    "import larq"
   ]
  },
  {
   "cell_type": "code",
   "execution_count": 35,
   "metadata": {},
   "outputs": [],
   "source": [
    "#Load data.\n",
    "(x_train, y_train), (x_test, y_test) = mnist.load_data()\n",
    "x_train, x_test = x_train / 255.0, x_test / 255.0\n",
    "y_train=to_categorical(y_train,10)\n",
    "y_test=to_categorical(y_test,10)\n",
    "x_train = tf.expand_dims(x_train, axis=-1)\n",
    "x_test = tf.expand_dims(x_test,axis=-1)"
   ]
  },
  {
   "cell_type": "code",
   "execution_count": 36,
   "metadata": {},
   "outputs": [
    {
     "ename": "OSError",
     "evalue": "No file or directory found at bin_mnist_bmlp_2h.h5",
     "output_type": "error",
     "traceback": [
      "\u001b[0;31m---------------------------------------------------------------------------\u001b[0m",
      "\u001b[0;31mOSError\u001b[0m                                   Traceback (most recent call last)",
      "\u001b[1;32m/home/viki/Programacion/MASTER_UIMP/10_TFM/codigo/dnn_examples/bmlp.ipynb Cell 3'\u001b[0m in \u001b[0;36m<cell line: 1>\u001b[0;34m()\u001b[0m\n\u001b[0;32m----> <a href='vscode-notebook-cell:/home/viki/Programacion/MASTER_UIMP/10_TFM/codigo/dnn_examples/bmlp.ipynb#ch0000002?line=0'>1</a>\u001b[0m model\u001b[39m=\u001b[39mtf\u001b[39m.\u001b[39;49mkeras\u001b[39m.\u001b[39;49mmodels\u001b[39m.\u001b[39;49mload_model(\u001b[39m\"\u001b[39;49m\u001b[39mbin_mnist_bmlp_2h.h5\u001b[39;49m\u001b[39m\"\u001b[39;49m)\n\u001b[1;32m      <a href='vscode-notebook-cell:/home/viki/Programacion/MASTER_UIMP/10_TFM/codigo/dnn_examples/bmlp.ipynb#ch0000002?line=1'>2</a>\u001b[0m model\u001b[39m.\u001b[39msummary()\n\u001b[1;32m      <a href='vscode-notebook-cell:/home/viki/Programacion/MASTER_UIMP/10_TFM/codigo/dnn_examples/bmlp.ipynb#ch0000002?line=3'>4</a>\u001b[0m \u001b[39m#The loaded model has been compiled, but it can be re-compiled with other parameters if wished.\u001b[39;00m\n\u001b[1;32m      <a href='vscode-notebook-cell:/home/viki/Programacion/MASTER_UIMP/10_TFM/codigo/dnn_examples/bmlp.ipynb#ch0000002?line=4'>5</a>\u001b[0m \u001b[39m#model.compile(optimizer='adam',loss='categorical_crossentropy', metrics=['accuracy'])\u001b[39;00m\n",
      "File \u001b[0;32m~/miniconda3/envs/tfm_jupyter/lib/python3.8/site-packages/keras/utils/traceback_utils.py:70\u001b[0m, in \u001b[0;36mfilter_traceback.<locals>.error_handler\u001b[0;34m(*args, **kwargs)\u001b[0m\n\u001b[1;32m     <a href='file:///home/viki/miniconda3/envs/tfm_jupyter/lib/python3.8/site-packages/keras/utils/traceback_utils.py?line=66'>67</a>\u001b[0m     filtered_tb \u001b[39m=\u001b[39m _process_traceback_frames(e\u001b[39m.\u001b[39m__traceback__)\n\u001b[1;32m     <a href='file:///home/viki/miniconda3/envs/tfm_jupyter/lib/python3.8/site-packages/keras/utils/traceback_utils.py?line=67'>68</a>\u001b[0m     \u001b[39m# To get the full stack trace, call:\u001b[39;00m\n\u001b[1;32m     <a href='file:///home/viki/miniconda3/envs/tfm_jupyter/lib/python3.8/site-packages/keras/utils/traceback_utils.py?line=68'>69</a>\u001b[0m     \u001b[39m# `tf.debugging.disable_traceback_filtering()`\u001b[39;00m\n\u001b[0;32m---> <a href='file:///home/viki/miniconda3/envs/tfm_jupyter/lib/python3.8/site-packages/keras/utils/traceback_utils.py?line=69'>70</a>\u001b[0m     \u001b[39mraise\u001b[39;00m e\u001b[39m.\u001b[39mwith_traceback(filtered_tb) \u001b[39mfrom\u001b[39;00m \u001b[39mNone\u001b[39m\n\u001b[1;32m     <a href='file:///home/viki/miniconda3/envs/tfm_jupyter/lib/python3.8/site-packages/keras/utils/traceback_utils.py?line=70'>71</a>\u001b[0m \u001b[39mfinally\u001b[39;00m:\n\u001b[1;32m     <a href='file:///home/viki/miniconda3/envs/tfm_jupyter/lib/python3.8/site-packages/keras/utils/traceback_utils.py?line=71'>72</a>\u001b[0m     \u001b[39mdel\u001b[39;00m filtered_tb\n",
      "File \u001b[0;32m~/miniconda3/envs/tfm_jupyter/lib/python3.8/site-packages/keras/saving/save.py:232\u001b[0m, in \u001b[0;36mload_model\u001b[0;34m(filepath, custom_objects, compile, options)\u001b[0m\n\u001b[1;32m    <a href='file:///home/viki/miniconda3/envs/tfm_jupyter/lib/python3.8/site-packages/keras/saving/save.py?line=229'>230</a>\u001b[0m \u001b[39mif\u001b[39;00m \u001b[39misinstance\u001b[39m(filepath_str, \u001b[39mstr\u001b[39m):\n\u001b[1;32m    <a href='file:///home/viki/miniconda3/envs/tfm_jupyter/lib/python3.8/site-packages/keras/saving/save.py?line=230'>231</a>\u001b[0m     \u001b[39mif\u001b[39;00m \u001b[39mnot\u001b[39;00m tf\u001b[39m.\u001b[39mio\u001b[39m.\u001b[39mgfile\u001b[39m.\u001b[39mexists(filepath_str):\n\u001b[0;32m--> <a href='file:///home/viki/miniconda3/envs/tfm_jupyter/lib/python3.8/site-packages/keras/saving/save.py?line=231'>232</a>\u001b[0m         \u001b[39mraise\u001b[39;00m \u001b[39mIOError\u001b[39;00m(\n\u001b[1;32m    <a href='file:///home/viki/miniconda3/envs/tfm_jupyter/lib/python3.8/site-packages/keras/saving/save.py?line=232'>233</a>\u001b[0m             \u001b[39mf\u001b[39m\u001b[39m\"\u001b[39m\u001b[39mNo file or directory found at \u001b[39m\u001b[39m{\u001b[39;00mfilepath_str\u001b[39m}\u001b[39;00m\u001b[39m\"\u001b[39m\n\u001b[1;32m    <a href='file:///home/viki/miniconda3/envs/tfm_jupyter/lib/python3.8/site-packages/keras/saving/save.py?line=233'>234</a>\u001b[0m         )\n\u001b[1;32m    <a href='file:///home/viki/miniconda3/envs/tfm_jupyter/lib/python3.8/site-packages/keras/saving/save.py?line=235'>236</a>\u001b[0m     \u001b[39mif\u001b[39;00m tf\u001b[39m.\u001b[39mio\u001b[39m.\u001b[39mgfile\u001b[39m.\u001b[39misdir(filepath_str):\n\u001b[1;32m    <a href='file:///home/viki/miniconda3/envs/tfm_jupyter/lib/python3.8/site-packages/keras/saving/save.py?line=236'>237</a>\u001b[0m         \u001b[39mreturn\u001b[39;00m saved_model_load\u001b[39m.\u001b[39mload(\n\u001b[1;32m    <a href='file:///home/viki/miniconda3/envs/tfm_jupyter/lib/python3.8/site-packages/keras/saving/save.py?line=237'>238</a>\u001b[0m             filepath_str, \u001b[39mcompile\u001b[39m, options\n\u001b[1;32m    <a href='file:///home/viki/miniconda3/envs/tfm_jupyter/lib/python3.8/site-packages/keras/saving/save.py?line=238'>239</a>\u001b[0m         )\n",
      "\u001b[0;31mOSError\u001b[0m: No file or directory found at bin_mnist_bmlp_2h.h5"
     ]
    }
   ],
   "source": [
    "model=tf.keras.models.load_model(\"bin_mnist_mlp_2h.h5\")\n",
    "model.summary()\n",
    "\n",
    "#The loaded model has been compiled, but it can be re-compiled with other parameters if wished.\n",
    "#model.compile(optimizer='adam',loss='categorical_crossentropy', metrics=['accuracy'])\n",
    "\n",
    "model.fit(x_train, y_train, epochs=100, batch_size=64)"
   ]
  },
  {
   "cell_type": "code",
   "execution_count": null,
   "metadata": {},
   "outputs": [
    {
     "name": "stdout",
     "output_type": "stream",
     "text": [
      "Test loss: 0.36811646819114685\n",
      "Test accuracy: 0.8952999711036682\n"
     ]
    }
   ],
   "source": [
    "score = model.evaluate(x_test, y_test, verbose=0)\n",
    "print(\"Test loss:\", score[0])\n",
    "print(\"Test accuracy:\", score[1])"
   ]
  },
  {
   "cell_type": "code",
   "execution_count": null,
   "metadata": {},
   "outputs": [],
   "source": [
    "model.save(\"mnist_bmlp_2h.h5\")"
   ]
  }
 ],
 "metadata": {
  "interpreter": {
   "hash": "3bc3e5bf1e2e4513b652dd0b0d3582ec524cacebf7bea236f30b6492fed982d3"
  },
  "kernelspec": {
   "display_name": "Python 3.8.13 ('tfm_jupyter')",
   "language": "python",
   "name": "python3"
  },
  "language_info": {
   "codemirror_mode": {
    "name": "ipython",
    "version": 3
   },
   "file_extension": ".py",
   "mimetype": "text/x-python",
   "name": "python",
   "nbconvert_exporter": "python",
   "pygments_lexer": "ipython3",
   "version": "3.8.13"
  },
  "orig_nbformat": 4
 },
 "nbformat": 4,
 "nbformat_minor": 2
}
